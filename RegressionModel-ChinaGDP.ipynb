{
 "cells": [
  {
   "cell_type": "markdown",
   "id": "30387392",
   "metadata": {},
   "source": [
    "### Machine Learning Model: Predict the monetary (GDP) value of all finished goods and services made by China"
   ]
  },
  {
   "cell_type": "markdown",
   "id": "6e77acd6",
   "metadata": {},
   "source": [
    "Fonte dos dados: https://labs.cognitiveclass.ai/tools/jupyterlab/lab/tree/labs/edX/ML0101EN/ML0101EN-Reg-NoneLinearRegression-py-v1.ipynb?lti=true"
   ]
  },
  {
   "cell_type": "code",
   "execution_count": 1,
   "id": "a17a8d76",
   "metadata": {},
   "outputs": [],
   "source": [
    "import numpy as np\n",
    "import matplotlib.pyplot as plt\n",
    "import pandas as pd\n",
    "from sklearn.model_selection import train_test_split\n",
    "import scipy\n",
    "import sklearn.metrics as metrics\n",
    "import seaborn as sns"
   ]
  },
  {
   "cell_type": "markdown",
   "id": "19648a34",
   "metadata": {},
   "source": [
    "#### Data Exploratory Analysis"
   ]
  },
  {
   "cell_type": "code",
   "execution_count": 2,
   "id": "219d0b20",
   "metadata": {},
   "outputs": [
    {
     "data": {
      "text/html": [
       "<div>\n",
       "<style scoped>\n",
       "    .dataframe tbody tr th:only-of-type {\n",
       "        vertical-align: middle;\n",
       "    }\n",
       "\n",
       "    .dataframe tbody tr th {\n",
       "        vertical-align: top;\n",
       "    }\n",
       "\n",
       "    .dataframe thead th {\n",
       "        text-align: right;\n",
       "    }\n",
       "</style>\n",
       "<table border=\"1\" class=\"dataframe\">\n",
       "  <thead>\n",
       "    <tr style=\"text-align: right;\">\n",
       "      <th></th>\n",
       "      <th>Year</th>\n",
       "      <th>Value</th>\n",
       "    </tr>\n",
       "  </thead>\n",
       "  <tbody>\n",
       "    <tr>\n",
       "      <th>0</th>\n",
       "      <td>1960</td>\n",
       "      <td>5.918412e+10</td>\n",
       "    </tr>\n",
       "    <tr>\n",
       "      <th>1</th>\n",
       "      <td>1961</td>\n",
       "      <td>4.955705e+10</td>\n",
       "    </tr>\n",
       "    <tr>\n",
       "      <th>2</th>\n",
       "      <td>1962</td>\n",
       "      <td>4.668518e+10</td>\n",
       "    </tr>\n",
       "    <tr>\n",
       "      <th>3</th>\n",
       "      <td>1963</td>\n",
       "      <td>5.009730e+10</td>\n",
       "    </tr>\n",
       "    <tr>\n",
       "      <th>4</th>\n",
       "      <td>1964</td>\n",
       "      <td>5.906225e+10</td>\n",
       "    </tr>\n",
       "    <tr>\n",
       "      <th>5</th>\n",
       "      <td>1965</td>\n",
       "      <td>6.970915e+10</td>\n",
       "    </tr>\n",
       "    <tr>\n",
       "      <th>6</th>\n",
       "      <td>1966</td>\n",
       "      <td>7.587943e+10</td>\n",
       "    </tr>\n",
       "    <tr>\n",
       "      <th>7</th>\n",
       "      <td>1967</td>\n",
       "      <td>7.205703e+10</td>\n",
       "    </tr>\n",
       "    <tr>\n",
       "      <th>8</th>\n",
       "      <td>1968</td>\n",
       "      <td>6.999350e+10</td>\n",
       "    </tr>\n",
       "    <tr>\n",
       "      <th>9</th>\n",
       "      <td>1969</td>\n",
       "      <td>7.871882e+10</td>\n",
       "    </tr>\n",
       "  </tbody>\n",
       "</table>\n",
       "</div>"
      ],
      "text/plain": [
       "   Year         Value\n",
       "0  1960  5.918412e+10\n",
       "1  1961  4.955705e+10\n",
       "2  1962  4.668518e+10\n",
       "3  1963  5.009730e+10\n",
       "4  1964  5.906225e+10\n",
       "5  1965  6.970915e+10\n",
       "6  1966  7.587943e+10\n",
       "7  1967  7.205703e+10\n",
       "8  1968  6.999350e+10\n",
       "9  1969  7.871882e+10"
      ]
     },
     "execution_count": 2,
     "metadata": {},
     "output_type": "execute_result"
    }
   ],
   "source": [
    "path = 'https://cf-courses-data.s3.us.cloud-object-storage.appdomain.cloud/IBMDeveloperSkillsNetwork-ML0101EN-Coursera/labs/Data_files/china_gdp.csv'\n",
    "    \n",
    "df = pd.read_csv(path)\n",
    "df.head(10)"
   ]
  },
  {
   "cell_type": "code",
   "execution_count": 3,
   "id": "e307b8e5",
   "metadata": {},
   "outputs": [
    {
     "data": {
      "image/png": "[encoded data removed]",
      "text/plain": [
       "<Figure size 432x288 with 1 Axes>"
      ]
     },
     "metadata": {
      "needs_background": "light"
     },
     "output_type": "display_data"
    },
    {
     "data": {
      "image/png": "[encoded data removed]",
      "text/plain": [
       "<Figure size 432x288 with 1 Axes>"
      ]
     },
     "metadata": {
      "needs_background": "light"
     },
     "output_type": "display_data"
    },
    {
     "name": "stderr",
     "output_type": "stream",
     "text": [
      "C:\\Users\\010823631\\Anaconda3\\lib\\site-packages\\seaborn\\_decorators.py:36: FutureWarning: Pass the following variable as a keyword arg: x. From version 0.12, the only valid positional argument will be `data`, and passing other arguments without an explicit keyword will result in an error or misinterpretation.\n",
      "  warnings.warn(\n"
     ]
    },
    {
     "data": {
      "image/png": "[encoded data removed]",
      "text/plain": [
       "<Figure size 432x288 with 1 Axes>"
      ]
     },
     "metadata": {
      "needs_background": "light"
     },
     "output_type": "display_data"
    }
   ],
   "source": [
    "plt.plot(df['Year'],df['Value'], color='b')\n",
    "plt.show()\n",
    "plt.hist(df['Value'])\n",
    "plt.show()\n",
    "sns.boxplot(df['Value'])\n",
    "plt.show()"
   ]
  },
  {
   "cell_type": "markdown",
   "id": "80ade81e",
   "metadata": {},
   "source": [
    "Dado o grafico de linha acima, um modelo linear nao atende a caracteristica do dataset, portanto foi usado um modelo nao-linear do tipo sigmoidal"
   ]
  },
  {
   "cell_type": "markdown",
   "id": "9e625cc1",
   "metadata": {},
   "source": [
    "#### Non-Linear Regression Model"
   ]
  },
  {
   "cell_type": "code",
   "execution_count": 4,
   "id": "51b191b5",
   "metadata": {},
   "outputs": [],
   "source": [
    "#definir coluna preditora e coluna target\n",
    "x = df['Year'].values\n",
    "y = df['Value'].values"
   ]
  },
  {
   "cell_type": "code",
   "execution_count": 5,
   "id": "7ce3de22",
   "metadata": {},
   "outputs": [],
   "source": [
    "x_train, x_test, y_train, y_test = train_test_split(x, y, test_size=0.3) #split do dado para melhor avaliacao"
   ]
  },
  {
   "cell_type": "code",
   "execution_count": 6,
   "id": "ccc695c4",
   "metadata": {},
   "outputs": [],
   "source": [
    "#normalizar dados\n",
    "x_train = x_train/x_train.max()\n",
    "y_train = y_train/y_train.max()\n",
    "\n",
    "x_test = x_test/x_test.max()\n",
    "y_test = y_test/y_test.max()"
   ]
  },
  {
   "cell_type": "code",
   "execution_count": 7,
   "id": "aa1c283a",
   "metadata": {},
   "outputs": [],
   "source": [
    "#modelo sigmoidal/logistico\n",
    "def lr(x_data,b1,b2): #recebe as variaveis preditoras e os parametros da funcao logistica\n",
    "    y = 1/ (1+np.exp(-b1*(x_data-b2)))\n",
    "    return y"
   ]
  },
  {
   "cell_type": "code",
   "execution_count": 8,
   "id": "ef1f5e34",
   "metadata": {},
   "outputs": [
    {
     "data": {
      "text/plain": [
       "(array([678.12636996,   0.99721161]),\n",
       " array([[ 2.40312550e+03, -3.67131975e-04],\n",
       "        [-3.67131975e-04,  1.14642098e-08]]))"
      ]
     },
     "execution_count": 8,
     "metadata": {},
     "output_type": "execute_result"
    }
   ],
   "source": [
    "#encontrar os parametros do modelo (b1 e b2)\n",
    "param = scipy.optimize.curve_fit(lr,x_train,y_train)\n",
    "param #a primeira linha e referentes aos parametros "
   ]
  },
  {
   "cell_type": "code",
   "execution_count": 9,
   "id": "9a961c6d",
   "metadata": {},
   "outputs": [],
   "source": [
    "y_preds = lr(x_test,param[0][0],param[0][1]) #fazer predicao com outro o sample teste"
   ]
  },
  {
   "cell_type": "code",
   "execution_count": 10,
   "id": "0a7260c9",
   "metadata": {},
   "outputs": [
    {
     "data": {
      "text/plain": [
       "<matplotlib.legend.Legend at 0x174b83f1fa0>"
      ]
     },
     "execution_count": 10,
     "metadata": {},
     "output_type": "execute_result"
    },
    {
     "data": {
      "image/png": "[encoded data removed]",
      "text/plain": [
       "<Figure size 864x576 with 1 Axes>"
      ]
     },
     "metadata": {
      "needs_background": "light"
     },
     "output_type": "display_data"
    }
   ],
   "source": [
    "plt.figure(figsize=(12,8))\n",
    "plt.plot(y_test, label = 'true values')\n",
    "plt.plot(y_preds, label = 'preds values')\n",
    "plt.legend()"
   ]
  },
  {
   "cell_type": "code",
   "execution_count": 11,
   "id": "a0273de4",
   "metadata": {},
   "outputs": [
    {
     "name": "stdout",
     "output_type": "stream",
     "text": [
      "MSE:  0.0027347104629359444\n",
      "R2_score: 0.9512211376134582\n"
     ]
    }
   ],
   "source": [
    "#metricas para validacao do modelo sigmoidal\n",
    "print('MSE: ',metrics.mean_squared_error(y_test,y_preds))\n",
    "print('R2_score:',metrics.r2_score(y_test,y_preds) )"
   ]
  },
  {
   "cell_type": "markdown",
   "id": "bc0ef0de",
   "metadata": {},
   "source": [
    "A acuracia do modelo foi muito boa, porem tem que levar em conta que foram dados teste in-sample. Para saber se o modelo e adaptavel/robusto, seria interessante testar com outro dataset.\n",
    "\n",
    "Antes de escolher usar a funcao logistica, foi feita uma tentativa com uma curva exponencial. Porem, o dado nao se ajustou a esse modelo, ultrapassando o maximo de iteracoes permitidas"
   ]
  }
 ],
 "metadata": {
  "kernelspec": {
   "display_name": "Python 3",
   "language": "python",
   "name": "python3"
  },
  "language_info": {
   "codemirror_mode": {
    "name": "ipython",
    "version": 3
   },
   "file_extension": ".py",
   "mimetype": "text/x-python",
   "name": "python",
   "nbconvert_exporter": "python",
   "pygments_lexer": "ipython3",
   "version": "3.8.10"
  }
 },
 "nbformat": 4,
 "nbformat_minor": 5
}
